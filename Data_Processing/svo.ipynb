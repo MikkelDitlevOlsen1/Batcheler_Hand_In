{
 "cells": [
  {
   "cell_type": "code",
   "execution_count": null,
   "metadata": {},
   "outputs": [],
   "source": [
    "import os \n",
    "# Go one folder back\n",
    "os.chdir('..')\n",
    "import pandas as pd"
   ]
  },
  {
   "attachments": {},
   "cell_type": "markdown",
   "metadata": {},
   "source": [
    "# Import A's\n"
   ]
  },
  {
   "cell_type": "code",
   "execution_count": null,
   "metadata": {},
   "outputs": [],
   "source": [
    "path = 'Data/svo/SVO_wavve_1.txt'"
   ]
  },
  {
   "cell_type": "code",
   "execution_count": null,
   "metadata": {},
   "outputs": [],
   "source": [
    "with open(path, 'r') as file:\n",
    "    data = file.read()"
   ]
  },
  {
   "cell_type": "code",
   "execution_count": null,
   "metadata": {},
   "outputs": [],
   "source": [
    "titles = []\n",
    "body = []\n",
    "\n",
    "for idx, line in enumerate(data.split('\\n')):\n",
    "    if idx == 1:\n",
    "        titles = line.split('\\t')\n",
    "    elif ((idx-1) % 15 == 0) and (idx != 0):\n",
    "        splitline=line.split('\\t')\n",
    "\n",
    "        splitline=[splitline[1],splitline[-37],splitline[-1]]\n",
    "        \n",
    "        body.append(splitline)\n",
    "        \n",
    "    "
   ]
  },
  {
   "cell_type": "code",
   "execution_count": null,
   "metadata": {},
   "outputs": [],
   "source": [
    "df_As = pd.DataFrame(body, columns=['ubjct', 'A_o', 'A_s'])"
   ]
  },
  {
   "cell_type": "code",
   "execution_count": null,
   "metadata": {},
   "outputs": [],
   "source": [
    "\n",
    "df_As.to_csv('Data/svo/SVO_As.csv', index = False)"
   ]
  },
  {
   "attachments": {},
   "cell_type": "markdown",
   "metadata": {},
   "source": [
    "# Import gender and age"
   ]
  },
  {
   "cell_type": "code",
   "execution_count": null,
   "metadata": {},
   "outputs": [],
   "source": [
    "path = 'Data/svo/merged3horts_UG_with_demographic_info.csv'\n"
   ]
  },
  {
   "cell_type": "code",
   "execution_count": null,
   "metadata": {},
   "outputs": [],
   "source": [
    "# Load the CSV file into a DataFrame\n",
    "df = pd.read_csv(path)\n",
    "\n",
    "# Save only the 'subject_id' and 'age' columns to a new DataFrame\n",
    "df_filtered = df[['subjID', 'gender','age']]\n",
    "\n",
    "# Save the filtered DataFrame to a new CSV file\n",
    "#df_filtered.to_csv('filtered_file.csv', index=False)\n",
    "df_age_and_gender = df_filtered[df_filtered['subjID'].isin(df_As['subjct'])]"
   ]
  },
  {
   "cell_type": "code",
   "execution_count": null,
   "metadata": {},
   "outputs": [],
   "source": [
    "df_age_and_gender = df_age_and_gender.drop_duplicates(subset='subjID', keep='first')\n",
    "df_age_and_gender = df_age_and_gender.rename(columns={'subjID': 'subjct'})\n",
    "\n",
    "len(df_age_and_gender)"
   ]
  },
  {
   "cell_type": "code",
   "execution_count": null,
   "metadata": {},
   "outputs": [],
   "source": [
    "df_age_and_gender.to_csv('Data/svo/SVO_age_and_gender.csv', index = False)"
   ]
  },
  {
   "attachments": {},
   "cell_type": "markdown",
   "metadata": {},
   "source": [
    "# Import age part2"
   ]
  },
  {
   "cell_type": "code",
   "execution_count": null,
   "metadata": {},
   "outputs": [],
   "source": [
    "path = 'Data/0419/CCNP/demographic/delete_redundent_age_information.csv'\n"
   ]
  },
  {
   "cell_type": "code",
   "execution_count": null,
   "metadata": {},
   "outputs": [],
   "source": [
    "df = pd.read_csv(path)\n",
    "df"
   ]
  },
  {
   "cell_type": "code",
   "execution_count": null,
   "metadata": {},
   "outputs": [],
   "source": [
    "# Save only the 'subject_id' and 'age' columns to a new DataFrame\n",
    "df_filtered = df[['Subject', 'gender','age']]\n",
    "print(len(df_filtered))\n",
    "# Save the filtered DataFrame to a new CSV file\n",
    "#df_filtered.to_csv('filtered_file.csv', index=False)\n",
    "df_age_and_gender = df_filtered[df_filtered['Subject'].isin(df_As['subjct'])]"
   ]
  },
  {
   "cell_type": "code",
   "execution_count": null,
   "metadata": {},
   "outputs": [],
   "source": [
    "len(df_age_and_gender)"
   ]
  }
 ],
 "metadata": {
  "kernelspec": {
   "display_name": "base",
   "language": "python",
   "name": "python3"
  },
  "language_info": {
   "codemirror_mode": {
    "name": "ipython",
    "version": 3
   },
   "file_extension": ".py",
   "mimetype": "text/x-python",
   "name": "python",
   "nbconvert_exporter": "python",
   "pygments_lexer": "ipython3",
   "version": "3.10.11"
  },
  "orig_nbformat": 4
 },
 "nbformat": 4,
 "nbformat_minor": 2
}
