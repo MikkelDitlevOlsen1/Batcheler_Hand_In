{
 "cells": [
  {
   "cell_type": "code",
   "execution_count": 1,
   "metadata": {},
   "outputs": [],
   "source": [
    "import os \n",
    "# Go one folder back\n",
    "os.chdir('..')\n",
    "import pandas as pd"
   ]
  },
  {
   "attachments": {},
   "cell_type": "markdown",
   "metadata": {},
   "source": [
    "# import A's\n"
   ]
  },
  {
   "cell_type": "code",
   "execution_count": 2,
   "metadata": {},
   "outputs": [],
   "source": [
    "path = 'Data/svo/SVO_wavve_1.txt'"
   ]
  },
  {
   "cell_type": "code",
   "execution_count": 3,
   "metadata": {},
   "outputs": [],
   "source": [
    "with open(path, 'r') as file:\n",
    "    data = file.read()"
   ]
  },
  {
   "cell_type": "code",
   "execution_count": 4,
   "metadata": {},
   "outputs": [],
   "source": [
    "titles = []\n",
    "body = []\n",
    "\n",
    "for idx, line in enumerate(data.split('\\n')):\n",
    "    if idx == 1:\n",
    "        titles = line.split('\\t')\n",
    "    elif ((idx-1) % 15 == 0) and (idx != 0):\n",
    "        splitline=line.split('\\t')\n",
    "\n",
    "        splitline=[splitline[1],splitline[-37],splitline[-1]]\n",
    "        \n",
    "        body.append(splitline)\n",
    "        \n",
    "    "
   ]
  },
  {
   "cell_type": "code",
   "execution_count": 6,
   "metadata": {},
   "outputs": [],
   "source": [
    "df_As = pd.DataFrame(body, columns=['ubjct', 'A_o', 'A_s'])"
   ]
  },
  {
   "cell_type": "code",
   "execution_count": 7,
   "metadata": {},
   "outputs": [
    {
     "name": "stdout",
     "output_type": "stream",
     "text": [
      "    subjct       A_o       A_s\n",
      "0      146  52.16667        91\n",
      "1        4        66  82.33334\n",
      "2        7        73        83\n",
      "3        9  49.16667      88.5\n",
      "4       11  69.83334  84.33334\n",
      "..     ...       ...       ...\n",
      "170    277  44.16667      92.5\n",
      "171     46  75.83334  84.16666\n",
      "172     90  65.66666      80.5\n",
      "173     96        60  88.33334\n",
      "174     98  68.83334  79.66666\n",
      "\n",
      "[175 rows x 3 columns]\n"
     ]
    }
   ],
   "source": [
    "print(df_As)"
   ]
  },
  {
   "cell_type": "code",
   "execution_count": 5,
   "metadata": {},
   "outputs": [],
   "source": [
    "\n",
    "df_As.to_csv('Data/svo/SVO_As.csv', index = False)"
   ]
  },
  {
   "attachments": {},
   "cell_type": "markdown",
   "metadata": {},
   "source": [
    "# impoort gender and age"
   ]
  },
  {
   "cell_type": "code",
   "execution_count": 6,
   "metadata": {},
   "outputs": [],
   "source": [
    "path = 'Data/svo/merged3horts_UG_with_demographic_info.csv'\n"
   ]
  },
  {
   "cell_type": "code",
   "execution_count": 16,
   "metadata": {},
   "outputs": [],
   "source": [
    "# Load the CSV file into a DataFrame\n",
    "df = pd.read_csv(path)\n",
    "\n",
    "# Save only the 'subject_id' and 'age' columns to a new DataFrame\n",
    "df_filtered = df[['subjID', 'gender','age']]\n",
    "\n",
    "# Save the filtered DataFrame to a new CSV file\n",
    "#df_filtered.to_csv('filtered_file.csv', index=False)\n",
    "df_age_and_gender = df_filtered[df_filtered['subjID'].isin(df_As['subjct'])]"
   ]
  },
  {
   "cell_type": "code",
   "execution_count": 27,
   "metadata": {},
   "outputs": [
    {
     "data": {
      "text/plain": [
       "117"
      ]
     },
     "execution_count": 27,
     "metadata": {},
     "output_type": "execute_result"
    }
   ],
   "source": [
    "df_age_and_gender = df_age_and_gender.drop_duplicates(subset='subjID', keep='first')\n",
    "df_age_and_gender = df_age_and_gender.rename(columns={'subjID': 'subjct'})\n",
    "\n",
    "len(df_age_and_gender)"
   ]
  },
  {
   "cell_type": "code",
   "execution_count": 28,
   "metadata": {},
   "outputs": [],
   "source": [
    "df_age_and_gender.to_csv('Data/svo/SVO_age_and_gender.csv', index = False)"
   ]
  },
  {
   "attachments": {},
   "cell_type": "markdown",
   "metadata": {},
   "source": [
    "# import age part2"
   ]
  },
  {
   "cell_type": "code",
   "execution_count": 9,
   "metadata": {},
   "outputs": [],
   "source": [
    "path = 'Data/0419/CCNP/demographic/delete_redundent_age_information.csv'\n"
   ]
  },
  {
   "cell_type": "code",
   "execution_count": 12,
   "metadata": {},
   "outputs": [
    {
     "data": {
      "text/html": [
       "<div>\n",
       "<style scoped>\n",
       "    .dataframe tbody tr th:only-of-type {\n",
       "        vertical-align: middle;\n",
       "    }\n",
       "\n",
       "    .dataframe tbody tr th {\n",
       "        vertical-align: top;\n",
       "    }\n",
       "\n",
       "    .dataframe thead th {\n",
       "        text-align: right;\n",
       "    }\n",
       "</style>\n",
       "<table border=\"1\" class=\"dataframe\">\n",
       "  <thead>\n",
       "    <tr style=\"text-align: right;\">\n",
       "      <th></th>\n",
       "      <th>Subject</th>\n",
       "      <th>wave</th>\n",
       "      <th>gender</th>\n",
       "      <th>birth_date</th>\n",
       "      <th>scan_date</th>\n",
       "      <th>age</th>\n",
       "      <th>rural/urban</th>\n",
       "      <th>ethnicity</th>\n",
       "      <th>twins</th>\n",
       "      <th>sibling</th>\n",
       "      <th>target_age</th>\n",
       "    </tr>\n",
       "  </thead>\n",
       "  <tbody>\n",
       "    <tr>\n",
       "      <th>0</th>\n",
       "      <td>3</td>\n",
       "      <td>2</td>\n",
       "      <td>male</td>\n",
       "      <td>2010/4/10</td>\n",
       "      <td>2020/9/5</td>\n",
       "      <td>10.413699</td>\n",
       "      <td>urban</td>\n",
       "      <td>han</td>\n",
       "      <td>0</td>\n",
       "      <td>0</td>\n",
       "      <td>10.413699</td>\n",
       "    </tr>\n",
       "    <tr>\n",
       "      <th>1</th>\n",
       "      <td>7</td>\n",
       "      <td>2</td>\n",
       "      <td>female</td>\n",
       "      <td>2008/8/26</td>\n",
       "      <td>2020/9/6</td>\n",
       "      <td>12.038356</td>\n",
       "      <td>urban</td>\n",
       "      <td>han</td>\n",
       "      <td>0</td>\n",
       "      <td>0</td>\n",
       "      <td>12.038356</td>\n",
       "    </tr>\n",
       "    <tr>\n",
       "      <th>2</th>\n",
       "      <td>8</td>\n",
       "      <td>2</td>\n",
       "      <td>female</td>\n",
       "      <td>2012/6/8</td>\n",
       "      <td>2020/9/19</td>\n",
       "      <td>8.287671</td>\n",
       "      <td>urban</td>\n",
       "      <td>han</td>\n",
       "      <td>0</td>\n",
       "      <td>0</td>\n",
       "      <td>8.287671</td>\n",
       "    </tr>\n",
       "    <tr>\n",
       "      <th>3</th>\n",
       "      <td>9</td>\n",
       "      <td>2</td>\n",
       "      <td>male</td>\n",
       "      <td>2009/3/20</td>\n",
       "      <td>2020/10/2</td>\n",
       "      <td>11.545205</td>\n",
       "      <td>urban</td>\n",
       "      <td>han</td>\n",
       "      <td>0</td>\n",
       "      <td>0</td>\n",
       "      <td>11.545205</td>\n",
       "    </tr>\n",
       "    <tr>\n",
       "      <th>4</th>\n",
       "      <td>10</td>\n",
       "      <td>2</td>\n",
       "      <td>male</td>\n",
       "      <td>2006/6/19</td>\n",
       "      <td>2021/2/22</td>\n",
       "      <td>14.690411</td>\n",
       "      <td>urban</td>\n",
       "      <td>han</td>\n",
       "      <td>0</td>\n",
       "      <td>0</td>\n",
       "      <td>14.690411</td>\n",
       "    </tr>\n",
       "    <tr>\n",
       "      <th>...</th>\n",
       "      <td>...</td>\n",
       "      <td>...</td>\n",
       "      <td>...</td>\n",
       "      <td>...</td>\n",
       "      <td>...</td>\n",
       "      <td>...</td>\n",
       "      <td>...</td>\n",
       "      <td>...</td>\n",
       "      <td>...</td>\n",
       "      <td>...</td>\n",
       "      <td>...</td>\n",
       "    </tr>\n",
       "    <tr>\n",
       "      <th>144</th>\n",
       "      <td>254</td>\n",
       "      <td>1</td>\n",
       "      <td>female</td>\n",
       "      <td>2010/9/29</td>\n",
       "      <td>2021/5/22</td>\n",
       "      <td>10.652055</td>\n",
       "      <td>urban</td>\n",
       "      <td>han</td>\n",
       "      <td>0</td>\n",
       "      <td>0</td>\n",
       "      <td>10.652055</td>\n",
       "    </tr>\n",
       "    <tr>\n",
       "      <th>145</th>\n",
       "      <td>256</td>\n",
       "      <td>1</td>\n",
       "      <td>female</td>\n",
       "      <td>2009/5/30</td>\n",
       "      <td>2021/8/10</td>\n",
       "      <td>12.205479</td>\n",
       "      <td>urban</td>\n",
       "      <td>han</td>\n",
       "      <td>0</td>\n",
       "      <td>0</td>\n",
       "      <td>12.205479</td>\n",
       "    </tr>\n",
       "    <tr>\n",
       "      <th>146</th>\n",
       "      <td>262</td>\n",
       "      <td>1</td>\n",
       "      <td>female</td>\n",
       "      <td>2013/4/5</td>\n",
       "      <td>2021/5/30</td>\n",
       "      <td>8.156164</td>\n",
       "      <td>urban</td>\n",
       "      <td>han</td>\n",
       "      <td>0</td>\n",
       "      <td>0</td>\n",
       "      <td>8.156164</td>\n",
       "    </tr>\n",
       "    <tr>\n",
       "      <th>147</th>\n",
       "      <td>272</td>\n",
       "      <td>1</td>\n",
       "      <td>male</td>\n",
       "      <td>2011/5/4</td>\n",
       "      <td>2021/6/15</td>\n",
       "      <td>10.123288</td>\n",
       "      <td>urban</td>\n",
       "      <td>han</td>\n",
       "      <td>0</td>\n",
       "      <td>0</td>\n",
       "      <td>10.123288</td>\n",
       "    </tr>\n",
       "    <tr>\n",
       "      <th>148</th>\n",
       "      <td>277</td>\n",
       "      <td>1</td>\n",
       "      <td>male</td>\n",
       "      <td>2012/5/1</td>\n",
       "      <td>2021/7/3</td>\n",
       "      <td>9.178082</td>\n",
       "      <td>urban</td>\n",
       "      <td>han</td>\n",
       "      <td>0</td>\n",
       "      <td>0</td>\n",
       "      <td>9.178082</td>\n",
       "    </tr>\n",
       "  </tbody>\n",
       "</table>\n",
       "<p>149 rows × 11 columns</p>\n",
       "</div>"
      ],
      "text/plain": [
       "     Subject  wave  gender birth_date  scan_date        age rural/urban  \\\n",
       "0          3     2    male  2010/4/10   2020/9/5  10.413699       urban   \n",
       "1          7     2  female  2008/8/26   2020/9/6  12.038356       urban   \n",
       "2          8     2  female   2012/6/8  2020/9/19   8.287671       urban   \n",
       "3          9     2    male  2009/3/20  2020/10/2  11.545205       urban   \n",
       "4         10     2    male  2006/6/19  2021/2/22  14.690411       urban   \n",
       "..       ...   ...     ...        ...        ...        ...         ...   \n",
       "144      254     1  female  2010/9/29  2021/5/22  10.652055       urban   \n",
       "145      256     1  female  2009/5/30  2021/8/10  12.205479       urban   \n",
       "146      262     1  female   2013/4/5  2021/5/30   8.156164       urban   \n",
       "147      272     1    male   2011/5/4  2021/6/15  10.123288       urban   \n",
       "148      277     1    male   2012/5/1   2021/7/3   9.178082       urban   \n",
       "\n",
       "    ethnicity twins sibling  target_age  \n",
       "0         han     0       0   10.413699  \n",
       "1         han     0       0   12.038356  \n",
       "2         han     0       0    8.287671  \n",
       "3         han     0       0   11.545205  \n",
       "4         han     0       0   14.690411  \n",
       "..        ...   ...     ...         ...  \n",
       "144       han     0       0   10.652055  \n",
       "145       han     0       0   12.205479  \n",
       "146       han     0       0    8.156164  \n",
       "147       han     0       0   10.123288  \n",
       "148       han     0       0    9.178082  \n",
       "\n",
       "[149 rows x 11 columns]"
      ]
     },
     "execution_count": 12,
     "metadata": {},
     "output_type": "execute_result"
    }
   ],
   "source": [
    "df = pd.read_csv(path)\n",
    "df"
   ]
  },
  {
   "cell_type": "code",
   "execution_count": 21,
   "metadata": {},
   "outputs": [
    {
     "name": "stdout",
     "output_type": "stream",
     "text": [
      "149\n"
     ]
    }
   ],
   "source": [
    "# Save only the 'subject_id' and 'age' columns to a new DataFrame\n",
    "df_filtered = df[['Subject', 'gender','age']]\n",
    "print(len(df_filtered))\n",
    "# Save the filtered DataFrame to a new CSV file\n",
    "#df_filtered.to_csv('filtered_file.csv', index=False)\n",
    "df_age_and_gender = df_filtered[df_filtered['Subject'].isin(df_As['subjct'])]"
   ]
  },
  {
   "cell_type": "code",
   "execution_count": 22,
   "metadata": {},
   "outputs": [
    {
     "data": {
      "text/plain": [
       "0"
      ]
     },
     "execution_count": 22,
     "metadata": {},
     "output_type": "execute_result"
    }
   ],
   "source": [
    "len(df_age_and_gender)"
   ]
  }
 ],
 "metadata": {
  "kernelspec": {
   "display_name": "base",
   "language": "python",
   "name": "python3"
  },
  "language_info": {
   "codemirror_mode": {
    "name": "ipython",
    "version": 3
   },
   "file_extension": ".py",
   "mimetype": "text/x-python",
   "name": "python",
   "nbconvert_exporter": "python",
   "pygments_lexer": "ipython3",
   "version": "3.10.11"
  },
  "orig_nbformat": 4
 },
 "nbformat": 4,
 "nbformat_minor": 2
}
