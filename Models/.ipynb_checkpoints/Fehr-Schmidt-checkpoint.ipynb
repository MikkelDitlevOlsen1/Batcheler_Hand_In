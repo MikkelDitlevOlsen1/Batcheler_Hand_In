{
 "cells": [
  {
   "cell_type": "code",
   "execution_count": 1,
   "metadata": {},
   "outputs": [
    {
     "name": "stderr",
     "output_type": "stream",
     "text": [
      "C:\\Users\\mikke\\OneDrive\\Skrivebord\\Git\\Bachelor_project\\Python_scripts\\data_processing.py:17: SettingWithCopyWarning: \n",
      "A value is trying to be set on a copy of a slice from a DataFrame\n",
      "\n",
      "See the caveats in the documentation: https://pandas.pydata.org/pandas-docs/stable/user_guide/indexing.html#returning-a-view-versus-a-copy\n",
      "  ug_1['choose'][ug_1.choose != '�ܾ�'] = 1\n",
      "C:\\Users\\mikke\\OneDrive\\Skrivebord\\Git\\Bachelor_project\\Python_scripts\\data_processing.py:18: SettingWithCopyWarning: \n",
      "A value is trying to be set on a copy of a slice from a DataFrame\n",
      "\n",
      "See the caveats in the documentation: https://pandas.pydata.org/pandas-docs/stable/user_guide/indexing.html#returning-a-view-versus-a-copy\n",
      "  ug_1['choose'][ug_1.choose == '�ܾ�'] = 0\n"
     ]
    }
   ],
   "source": [
    "import os \n",
    "# Go one folder back\n",
    "os.chdir('..')\n",
    "from Python_scripts.data_processing import *"
   ]
  },
  {
   "cell_type": "code",
   "execution_count": 2,
   "metadata": {},
   "outputs": [
    {
     "name": "stderr",
     "output_type": "stream",
     "text": [
      "C:\\Users\\mikke\\OneDrive\\Skrivebord\\Git\\Bachelor_project\\Python_scripts\\data_processing.py:17: SettingWithCopyWarning: \n",
      "A value is trying to be set on a copy of a slice from a DataFrame\n",
      "\n",
      "See the caveats in the documentation: https://pandas.pydata.org/pandas-docs/stable/user_guide/indexing.html#returning-a-view-versus-a-copy\n",
      "  ug_1['choose'][ug_1.choose != '�ܾ�'] = 1\n",
      "C:\\Users\\mikke\\OneDrive\\Skrivebord\\Git\\Bachelor_project\\Python_scripts\\data_processing.py:18: SettingWithCopyWarning: \n",
      "A value is trying to be set on a copy of a slice from a DataFrame\n",
      "\n",
      "See the caveats in the documentation: https://pandas.pydata.org/pandas-docs/stable/user_guide/indexing.html#returning-a-view-versus-a-copy\n",
      "  ug_1['choose'][ug_1.choose == '�ܾ�'] = 0\n"
     ]
    }
   ],
   "source": [
    "import math\n",
    "import matplotlib.pyplot as plt\n",
    "subjects_dataframe, subjects_dataframe_gain, subjects_dataframe_loss = data_processing_func()"
   ]
  },
  {
   "cell_type": "code",
   "execution_count": 3,
   "metadata": {},
   "outputs": [],
   "source": [
    "class Log_Likelihood: \n",
    "    def __init__(self, data, number_of_alphas = 100, min_alpha = 0, max_alpha = 3):\n",
    "        self.subject=data[\"Subject\"]\n",
    "        self.data = data\n",
    "        self.number_of_alphas = number_of_alphas\n",
    "        self.min_alpha = min_alpha\n",
    "        self.max_alpha = max_alpha\n",
    "        self.alpha_range = [min_alpha+ (x / number_of_alphas)*(max_alpha-min_alpha) for x in range(number_of_alphas)]\n",
    "        self.probability_space = {}\n",
    "        self.dict_probabilities()\n",
    "        self.best_alpha = self.likelihood()\n",
    "    \n",
    "    def Fehr_Schmidt(self, receivor, alpha):\n",
    "        u = receivor - alpha * max( (10 - receivor) - receivor, 0)\n",
    "        \n",
    "        return u\n",
    "    \n",
    "    def probability(self, receivor, alpha, c=1):\n",
    "        u = self.Fehr_Schmidt(receivor, alpha)\n",
    "        p_1 = math.exp(u * c) / (1 + math.exp(u * c))\n",
    "\n",
    "        return p_1\n",
    "    \n",
    "    def dict_probabilities(self):\n",
    "        self.probability_space = {}\n",
    "        for alpha in self.alpha_range:\n",
    "            probabilities = []\n",
    "            for receivor in range(5):\n",
    "                p_1 = self.probability(receivor, alpha)\n",
    "                probabilities.append(p_1)\n",
    "            self.probability_space[alpha] = probabilities\n",
    "\n",
    "    def likelihood(self):\n",
    "        likelihoods = []\n",
    "        alpha_dict = {}\n",
    "        for alpha in self.probability_space:\n",
    "            prob_all_states = self.probability_space[alpha]\n",
    "            \n",
    "            Log_L = 0\n",
    "            for _, test in self.data.iterrows():\n",
    "                receivor = test['receivor'] \n",
    "                prob_state = prob_all_states[int(receivor-1)]    \n",
    "                log_prob_state = math.log(prob_state * test['choose'] + (1 - prob_state) * (1 - test['choose']))\n",
    "                Log_L += log_prob_state\n",
    "\n",
    "            likelihoods.append(Log_L)\n",
    "\n",
    "            alpha_dict[Log_L] = alpha\n",
    "    \n",
    "        return alpha_dict[max(likelihoods)]\n",
    "            \n",
    "\n",
    "    def plot(self):\n",
    "        plt.plot(self.probability_space[self.best_alpha])\n",
    "        plt.show()\n",
    "        \n",
    "           \n",
    "        "
   ]
  },
  {
   "cell_type": "code",
   "execution_count": null,
   "metadata": {},
   "outputs": [],
   "source": [
    "class All_persons"
   ]
  },
  {
   "cell_type": "code",
   "execution_count": 4,
   "metadata": {},
   "outputs": [],
   "source": [
    "person1=Log_Likelihood(subjects_dataframe_gain[0])\n",
    "person2=Log_Likelihood(subjects_dataframe_gain[1])"
   ]
  },
  {
   "cell_type": "code",
   "execution_count": 5,
   "metadata": {},
   "outputs": [
    {
     "data": {
      "image/png": "[encoded data removed]",
      "text/plain": [
       "<Figure size 432x288 with 1 Axes>"
      ]
     },
     "metadata": {
      "needs_background": "light"
     },
     "output_type": "display_data"
    }
   ],
   "source": [
    "person1.plot()\n"
   ]
  }
 ],
 "metadata": {
  "kernelspec": {
   "display_name": "Python 3 (ipykernel)",
   "language": "python",
   "name": "python3"
  },
  "language_info": {
   "codemirror_mode": {
    "name": "ipython",
    "version": 3
   },
   "file_extension": ".py",
   "mimetype": "text/x-python",
   "name": "python",
   "nbconvert_exporter": "python",
   "pygments_lexer": "ipython3",
   "version": "3.9.7"
  },
  "vscode": {
   "interpreter": {
    "hash": "fd650b4f88e078e91e2b95eaf045706ef788c9faf7f2fb460bd5046fe0805a35"
   }
  }
 },
 "nbformat": 4,
 "nbformat_minor": 2
}
