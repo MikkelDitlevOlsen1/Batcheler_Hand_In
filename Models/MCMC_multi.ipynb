{
 "cells": [
  {
   "cell_type": "code",
   "execution_count": 2,
   "metadata": {},
   "outputs": [
    {
     "name": "stderr",
     "output_type": "stream",
     "text": [
      "/home/mikkel/git/Bachelor_project/Python_scripts/data_processing.py:18: SettingWithCopyWarning: \n",
      "A value is trying to be set on a copy of a slice from a DataFrame\n",
      "\n",
      "See the caveats in the documentation: https://pandas.pydata.org/pandas-docs/stable/user_guide/indexing.html#returning-a-view-versus-a-copy\n",
      "  ug_1['choose'][ug_1.choose != '�ܾ�'] = 1\n",
      "/home/mikkel/git/Bachelor_project/Python_scripts/data_processing.py:19: SettingWithCopyWarning: \n",
      "A value is trying to be set on a copy of a slice from a DataFrame\n",
      "\n",
      "See the caveats in the documentation: https://pandas.pydata.org/pandas-docs/stable/user_guide/indexing.html#returning-a-view-versus-a-copy\n",
      "  ug_1['choose'][ug_1.choose == '�ܾ�'] = 0\n",
      "/home/mikkel/git/Bachelor_project/Python_scripts/data_processing.py:18: SettingWithCopyWarning: \n",
      "A value is trying to be set on a copy of a slice from a DataFrame\n",
      "\n",
      "See the caveats in the documentation: https://pandas.pydata.org/pandas-docs/stable/user_guide/indexing.html#returning-a-view-versus-a-copy\n",
      "  ug_1['choose'][ug_1.choose != '�ܾ�'] = 1\n",
      "/home/mikkel/git/Bachelor_project/Python_scripts/data_processing.py:19: SettingWithCopyWarning: \n",
      "A value is trying to be set on a copy of a slice from a DataFrame\n",
      "\n",
      "See the caveats in the documentation: https://pandas.pydata.org/pandas-docs/stable/user_guide/indexing.html#returning-a-view-versus-a-copy\n",
      "  ug_1['choose'][ug_1.choose == '�ܾ�'] = 0\n"
     ]
    }
   ],
   "source": [
    "import os \n",
    "# Go one folder back\n",
    "os.chdir('..')\n",
    "from Python_scripts.data_processing import *\n",
    "from Python_scripts.log_likelihood import *\n",
    "from Python_scripts.utilities import *\n",
    "\n",
    "import glob\n",
    "import numpy as np\n",
    "import pymc3 as pm\n",
    "import theano.tensor as tt   \n",
    "\n",
    "import ast\n",
    "utility_class = utility_functions()\n",
    "\n",
    "data=pd.read_csv('Data/all_combined.csv')\n",
    "#import data in format\n",
    "# Subject, chooce ,receivor, Wait2.RT, targettxt ,gender ,age ,As ,Ao\n",
    "# subID,list, list ,list ,list, bool ,float ,float ,float"
   ]
  },
  {
   "cell_type": "code",
   "execution_count": 3,
   "metadata": {},
   "outputs": [],
   "source": [
    "#number_of_pareiters = List of len = len(us) where eache element in the list is the number of paremeters that the i models take\n",
    "#eks us = [u1,u5] , number_of_pareiters=[1,2]\n",
    "#min_peremiter is a list1[list2[]] where list 2 have len of number_of_pareiters\n",
    "#eks us = [u1,u5] , number_of_pareiters=[1,2] , min_peremiter[[0],[1, 2]]\n",
    "def multimodels(person, us, utility_functions_class, N_SAMPLES = 5000,sim=False,sim_data=None):\n",
    "    if sim:\n",
    "        print(type(sim_data))\n",
    "        receivor=sim_data[0]\n",
    "        utility_functions_class.set_responder(receivor)\n",
    "        choice=sim_data[1]\n",
    "    else:\n",
    "        receivor=ast.literal_eval(data['receivor'][person])[0:40] if ast.literal_eval(data['receivor'][person])[0] >= 0 else ast.literal_eval(data['receivor'][person])[40:]\n",
    "        receivor=np.array(receivor)\n",
    "        utility_functions_class.set_responder(receivor)\n",
    "        choice=ast.literal_eval(data['choose'][person])[0:40] if ast.literal_eval(data['receivor'][person])[0] >= 0 else ast.literal_eval(data['choose'][person])[40:]\n",
    "        choice=np.array(choice)\n",
    "        # np.isnan() can now be applied on \"choice\"\n",
    "        choice = np.array([0 if np.isnan(x) else x for x in choice])\n",
    "        print(f'subjet {data[\"Subject\"][person]}')\n",
    "\n",
    "    \n",
    "    lambdas=[]\n",
    "    with pm.Model() as model:\n",
    "        number_of_models=6\n",
    "        # creat paremiters\n",
    "        #\n",
    "        alpah_1= pm.Gamma('alpha_1', alpha = 2, beta = 0.5)\n",
    "\n",
    "        #\n",
    "        alpah_2= pm.Gamma('alpha_2', alpha = 2, beta = 0.5)\n",
    "        lamda_2=pm.Uniform(f'lamda_2', lower = -1, upper =1)\n",
    "\n",
    "        #\n",
    "        lamda_3=pm.Uniform(f'lamda_3', lower = -1, upper =1)\n",
    "        lamda_4=pm.Uniform(f'lamda_4', lower = -1, upper =1)\n",
    "\n",
    "        #\n",
    "        lamda_5=pm.Uniform(f'lamda_5', lower = -1, upper =1)\n",
    "        lamda_6=pm.Uniform(f'lamda_6', lower = -1, upper =1)\n",
    "\n",
    "        #\n",
    "        lamda_7=pm.Uniform(f'lamda_7', lower = -1, upper =1)\n",
    "        lamda_8=pm.Uniform(f'lamda_8', lower = -1, upper =1)\n",
    "\n",
    "        #\n",
    "        lamda_9=pm.Uniform(f'lamda_9', lower = -1, upper =1)\n",
    "        lamda_10=pm.Uniform(f'lamda_10', lower = -1, upper =1)\n",
    "        lamda_11=pm.Uniform(f'lamda_11', lower = -1, upper =1)\n",
    "\n",
    "\n",
    "        #lambdas is list[list] \n",
    "\n",
    "        #creat switch\n",
    "        prop=[1/number_of_models]*number_of_models\n",
    "        switch=pm.Categorical('switch',prop)\n",
    "        \n",
    "    \n",
    "        # calculate P based on switch\n",
    "   \n",
    "        p = pm.Deterministic('p',\n",
    "                             pm.math.switch(pm.math.eq(0, switch),utility_functions_class.P(us[0](alpah_1)),\n",
    "                             pm.math.switch(pm.math.eq(2, switch),utility_functions_class.P(us[1]([alpah_2,lamda_2])),\n",
    "                             pm.math.switch(pm.math.eq(1, switch),utility_functions_class.P(us[2]([lamda_3,lamda_4])),\n",
    "                             pm.math.switch(pm.math.eq(3, switch),utility_functions_class.P(us[3]([lamda_5,lamda_6])),\n",
    "                             pm.math.switch(pm.math.eq(4, switch),utility_functions_class.P(us[4]([lamda_7,lamda_8])),\n",
    "                             utility_functions_class.P(us[5]([[lamda_9,lamda_10],lamda_11])),\n",
    "                             ))))))\n",
    "\n",
    "\n",
    "\n",
    "        observed = pm.Bernoulli('obs', p, observed = choice)\n",
    "        # Perform sampling\n",
    "        #trace = pm.sample(2000, tune=1000, return_inferencedata=True)\n",
    "\n",
    "        step = pm.Metropolis()\n",
    "\n",
    "            # Sample from the posterior using the sampling method\n",
    "        trace = pm.sample(N_SAMPLES, step=step)\n",
    "\n",
    "        # Sample from the posterior using MCMC\n",
    "        #trace = pm.sample(5000, tune=1000, target_accept=0.9)\n",
    "\n",
    "    # Print the summary of the posterior distribution\n",
    "    #pm.summary(trace)\n",
    "    return trace\n"
   ]
  },
  {
   "attachments": {},
   "cell_type": "markdown",
   "metadata": {},
   "source": [
    "# Exampel MCMC"
   ]
  },
  {
   "cell_type": "code",
   "execution_count": 7,
   "metadata": {},
   "outputs": [
    {
     "name": "stdout",
     "output_type": "stream",
     "text": [
      "subjet 9\n"
     ]
    },
    {
     "name": "stderr",
     "output_type": "stream",
     "text": [
      "/home/mikkel/miniconda3/envs/Batcheler/lib/python3.10/site-packages/deprecat/classic.py:215: FutureWarning: In v4.0, pm.sample will return an `arviz.InferenceData` object instead of a `MultiTrace` by default. You can pass return_inferencedata=True or return_inferencedata=False to be safe and silence this warning.\n",
      "  return wrapped_(*args_, **kwargs_)\n",
      "Multiprocess sampling (4 chains in 4 jobs)\n",
      "CompoundStep\n",
      ">Metropolis: [switch]\n",
      ">Metropolis: [lamda_11]\n",
      ">Metropolis: [lamda_10]\n",
      ">Metropolis: [lamda_9]\n",
      ">Metropolis: [lamda_8]\n",
      ">Metropolis: [lamda_7]\n",
      ">Metropolis: [lamda_6]\n",
      ">Metropolis: [lamda_5]\n",
      ">Metropolis: [lamda_4]\n",
      ">Metropolis: [lamda_3]\n",
      ">Metropolis: [lamda_2]\n",
      ">Metropolis: [alpha_2]\n",
      ">Metropolis: [alpha_1]\n"
     ]
    },
    {
     "data": {
      "text/html": [
       "\n",
       "<style>\n",
       "    /* Turns off some styling */\n",
       "    progress {\n",
       "        /* gets rid of default border in Firefox and Opera. */\n",
       "        border: none;\n",
       "        /* Needs to be in here for Safari polyfill so background images work as expected. */\n",
       "        background-size: auto;\n",
       "    }\n",
       "    progress:not([value]), progress:not([value])::-webkit-progress-bar {\n",
       "        background: repeating-linear-gradient(45deg, #7e7e7e, #7e7e7e 10px, #5c5c5c 10px, #5c5c5c 20px);\n",
       "    }\n",
       "    .progress-bar-interrupted, .progress-bar-interrupted::-webkit-progress-bar {\n",
       "        background: #F44336;\n",
       "    }\n",
       "</style>\n"
      ],
      "text/plain": [
       "<IPython.core.display.HTML object>"
      ]
     },
     "metadata": {},
     "output_type": "display_data"
    },
    {
     "data": {
      "text/html": [
       "\n",
       "    <div>\n",
       "      <progress value='24000' class='' max='24000' style='width:300px; height:20px; vertical-align: middle;'></progress>\n",
       "      100.00% [24000/24000 00:13&lt;00:00 Sampling 4 chains, 0 divergences]\n",
       "    </div>\n",
       "    "
      ],
      "text/plain": [
       "<IPython.core.display.HTML object>"
      ]
     },
     "metadata": {},
     "output_type": "display_data"
    },
    {
     "name": "stderr",
     "output_type": "stream",
     "text": [
      "Sampling 4 chains for 1_000 tune and 5_000 draw iterations (4_000 + 20_000 draws total) took 16 seconds.\n",
      "The rhat statistic is larger than 1.2 for some parameters.\n",
      "The estimated number of effective samples is smaller than 200 for some parameters.\n"
     ]
    }
   ],
   "source": [
    "\n",
    "person = 1\n",
    "\n",
    "utility_class\n",
    "us=[utility_class.Fehr_Schmidt,\n",
    "    utility_class.multiplication_us(utility_class.Fehr_Schmidt,utility_class.U2),\n",
    "    utility_class.add_us(utility_class.U3,utility_class.U4),\n",
    "    utility_class.add_us(utility_class.U2,utility_class.U4),\n",
    "    utility_class.U5,\n",
    "    utility_class.add_us(utility_class.U5,utility_class.U4),\n",
    "    ]\n",
    "\n",
    "\n",
    "trace_multimodels = multimodels(person, us, utility_class, N_SAMPLES = 5000)\n",
    "\n"
   ]
  },
  {
   "attachments": {},
   "cell_type": "markdown",
   "metadata": {},
   "source": [
    "# Plots"
   ]
  },
  {
   "cell_type": "code",
   "execution_count": null,
   "metadata": {},
   "outputs": [
    {
     "data": {
      "image/png": "[encoded data removed]",
      "text/plain": [
       "<Figure size 1000x700 with 1 Axes>"
      ]
     },
     "metadata": {},
     "output_type": "display_data"
    }
   ],
   "source": [
    "switch_plot = trace_multimodels.get_values('switch', combine = True,burn=1000)\n",
    "#plt.bar(switch_plot, [0, 1, 2, 3, 4, 5])\n",
    "\n",
    "# Creating histogram\n",
    "fig, ax = plt.subplots(figsize =(10, 7))\n",
    "ax.hist(switch_plot, bins = 6, range = (0,6), density = True, align = 'left')\n",
    " \n",
    "# Show plot\n",
    "plt.show()"
   ]
  },
  {
   "attachments": {},
   "cell_type": "markdown",
   "metadata": {},
   "source": [
    "# Run on all persons"
   ]
  },
  {
   "cell_type": "code",
   "execution_count": null,
   "metadata": {},
   "outputs": [],
   "source": [
    "\n",
    "us=[utility_class.Fehr_Schmidt,\n",
    "    utility_class.multiplication_us(utility_class.Fehr_Schmidt,utility_class.U2),\n",
    "    utility_class.add_us(utility_class.U3,utility_class.U4),\n",
    "    utility_class.add_us(utility_class.U2,utility_class.U4),\n",
    "    utility_class.U5,\n",
    "    utility_class.add_us(utility_class.U5,utility_class.U4),\n",
    "    ]\n",
    "\n",
    "\n",
    "for i in range(len(data)):\n",
    "    person = i\n",
    "    trace_multimodels = multimodels(person, us, utility_class, N_SAMPLES = 5000)\n",
    "    result = trace_multimodels['switch', 1000:]\n",
    "    #result = trace_multimodels.get_values('switch', burn=1000, combine=False)\n",
    "    np.savez(f'MCMC_tests/multi_mcmc_sub_{i}.npz', result)\n",
    "    print(f'person: {i} saved')"
   ]
  },
  {
   "attachments": {},
   "cell_type": "markdown",
   "metadata": {},
   "source": [
    "# Simulated data"
   ]
  },
  {
   "cell_type": "code",
   "execution_count": 4,
   "metadata": {},
   "outputs": [
    {
     "name": "stdout",
     "output_type": "stream",
     "text": [
      "5000\n"
     ]
    },
    {
     "data": {
      "text/plain": [
       "numpy.ndarray"
      ]
     },
     "execution_count": 4,
     "metadata": {},
     "output_type": "execute_result"
    }
   ],
   "source": [
    "rep=1000\n",
    "lamb=0.5\n",
    "\n",
    "sim_u = utility_class.Fehr_Schmidt\n",
    "\n",
    "resiver=[None]*rep*5\n",
    "print(len(resiver))\n",
    "prop=[None]*rep*5\n",
    "choise=[None]*rep*5\n",
    "for i in range(rep):\n",
    "    for resiv in range(1,6):\n",
    "        utility_class.set_responder(resiv)\n",
    "        resiver[(i*5)+resiv-1]=resiv\n",
    "\n",
    "        # Defin the u func\n",
    "        u=sim_u(lamb)\n",
    "\n",
    "        #calculate the p\n",
    "        p_sim=utility_class.P(u)\n",
    "        prop[(i*5)+resiv-1]=p_sim\n",
    "        #Simulate from binomial distrabusing \n",
    "        choise[(i*5)+resiv-1]=np.random.binomial(n=1, p=p_sim)\n",
    "\n",
    "resiver=np.array(resiver)      \n",
    "choise = np.array([0 if np.isnan(x) else x for x in choise])\n",
    "type(choise)  "
   ]
  },
  {
   "cell_type": "code",
   "execution_count": null,
   "metadata": {},
   "outputs": [],
   "source": [
    "us=[utility_class.Fehr_Schmidt,\n",
    "    utility_class.multiplication_us(utility_class.Fehr_Schmidt,utility_class.U2),\n",
    "    utility_class.add_us(utility_class.U3,utility_class.U4),\n",
    "    utility_class.add_us(utility_class.U2,utility_class.U4),\n",
    "    utility_class.U5,\n",
    "    utility_class.add_us(utility_class.U5,utility_class.U4),\n",
    "    ]\n",
    "\n",
    "\n",
    "\n",
    "trace_multimodels = multimodels(9, us, utility_class, N_SAMPLES = 5000,sim=True,sim_data=(resiver,choise))\n",
    "\n",
    "result = trace_multimodels.get_values('switch', burn=1000, combine=False)\n",
    "np.savez(f'MCMC_tests/trace_v1_simdata_{sim_u}_{lamb}.npz', result)\n",
    "\n",
    "switch_plot = trace_multimodels.get_values('switch', combine = True,burn=1000)\n"
   ]
  },
  {
   "cell_type": "code",
   "execution_count": 7,
   "metadata": {},
   "outputs": [
    {
     "name": "stdout",
     "output_type": "stream",
     "text": [
      "[12000, 4000, 0, 0, 0, 0]\n"
     ]
    },
    {
     "data": {
      "image/png": "[encoded data removed]",
      "text/plain": [
       "<Figure size 640x480 with 1 Axes>"
      ]
     },
     "metadata": {},
     "output_type": "display_data"
    }
   ],
   "source": [
    "us =['Ut0', 'Ut1', 'Ut2', 'Ut3', 'Ut4', 'Ut5']\n",
    "result_list = [np.count_nonzero(switch_plot == j) for j in range(6)]\n",
    "print(result_list)\n",
    "result_list=result_list/np.sum(result_list)\n",
    "counts = result_list\n",
    "# Plot the bar chart\n",
    "plt.bar(us, counts*100, color = ['blue', 'green', 'green', 'green', 'green', 'green'])\n",
    "# Set the title and axis labels\n",
    "plt.title('Best model fit simulation')\n",
    "plt.xlabel('Utilities')\n",
    "plt.ylabel('%')\n",
    "# Display the plot\n",
    "plt.show()"
   ]
  }
 ],
 "metadata": {
  "kernelspec": {
   "display_name": "base",
   "language": "python",
   "name": "python3"
  },
  "language_info": {
   "codemirror_mode": {
    "name": "ipython",
    "version": 3
   },
   "file_extension": ".py",
   "mimetype": "text/x-python",
   "name": "python",
   "nbconvert_exporter": "python",
   "pygments_lexer": "ipython3",
   "version": "3.10.11"
  },
  "orig_nbformat": 4
 },
 "nbformat": 4,
 "nbformat_minor": 2
}
