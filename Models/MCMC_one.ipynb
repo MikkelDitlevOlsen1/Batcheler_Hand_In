{
 "cells": [
  {
   "cell_type": "code",
   "execution_count": 1,
   "metadata": {},
   "outputs": [
    {
     "name": "stderr",
     "output_type": "stream",
     "text": [
      "/home/mikkel/git/Bachelor_project/Python_scripts/data_processing.py:18: SettingWithCopyWarning: \n",
      "A value is trying to be set on a copy of a slice from a DataFrame\n",
      "\n",
      "See the caveats in the documentation: https://pandas.pydata.org/pandas-docs/stable/user_guide/indexing.html#returning-a-view-versus-a-copy\n",
      "  ug_1['choose'][ug_1.choose != '�ܾ�'] = 1\n",
      "/home/mikkel/git/Bachelor_project/Python_scripts/data_processing.py:19: SettingWithCopyWarning: \n",
      "A value is trying to be set on a copy of a slice from a DataFrame\n",
      "\n",
      "See the caveats in the documentation: https://pandas.pydata.org/pandas-docs/stable/user_guide/indexing.html#returning-a-view-versus-a-copy\n",
      "  ug_1['choose'][ug_1.choose == '�ܾ�'] = 0\n"
     ]
    }
   ],
   "source": [
    "import os \n",
    "# Go one folder back\n",
    "os.chdir('..')\n",
    "from Python_scripts.data_processing import *\n",
    "from Python_scripts.log_likelihood import *\n",
    "from Python_scripts.utilities import *\n",
    "\n",
    "import glob\n",
    "import numpy as np\n",
    "import pymc3 as pm\n",
    "import theano.tensor as tt   \n",
    "import ast\n",
    "utility_class = utility_functions()\n",
    "\n",
    "\n",
    "data=pd.read_csv('Data/all_combined.csv')\n",
    "# import data in format\n",
    "# Subject, chooce ,receivor, Wait2.RT, targettxt ,gender ,age ,As ,Ao\n",
    "# subID,list, list ,list ,list, bool ,float ,float ,float\n"
   ]
  },
  {
   "cell_type": "code",
   "execution_count": 2,
   "metadata": {},
   "outputs": [],
   "source": [
    "#import ut formels\n",
    "from Python_scripts.log_likelihood import *\n",
    "N_SAMPLES = 5000\n",
    "formel=formels()\n"
   ]
  },
  {
   "attachments": {},
   "cell_type": "markdown",
   "metadata": {},
   "source": [
    "# Test MCMC on one person\n"
   ]
  },
  {
   "cell_type": "code",
   "execution_count": 4,
   "metadata": {},
   "outputs": [
    {
     "name": "stdout",
     "output_type": "stream",
     "text": [
      "[5. 2. 1. 3. 4. 2. 3. 1. 4. 5. 4. 1. 3. 5. 2. 1. 3. 5. 2. 4. 1. 3. 2. 5.\n",
      " 4. 4. 1. 5. 3. 2. 5. 3. 1. 2. 4. 4. 1. 3. 5. 2.]\n",
      "subjet 7\n"
     ]
    }
   ],
   "source": [
    "person = 0\n",
    "\n",
    "receivor=ast.literal_eval(data['receivor'][person])[0:40] if ast.literal_eval(data['receivor'][person])[0] >= 0 else ast.literal_eval(data['receivor'][person])[40:]\n",
    "receivor=np.array(receivor)\n",
    "\n",
    "choice=ast.literal_eval(data['choose'][person])[0:40] if ast.literal_eval(data['receivor'][person])[0] >= 0 else ast.literal_eval(data['choose'][person])[40:]\n",
    "choice=np.array(choice)\n",
    "\n",
    "\n",
    "choice = np.array([0 if np.isnan(x) else x for x in choice])\n",
    "print(receivor)\n",
    "print(f'subjet {data[\"Subject\"][person]}')"
   ]
  },
  {
   "cell_type": "code",
   "execution_count": null,
   "metadata": {},
   "outputs": [],
   "source": [
    "# Define the MCMC model\n",
    "with pm.Model() as model:\n",
    "    \n",
    "    # Define the priors\n",
    "    alpha = pm.Gamma('alpha', alpha = 2, beta = 0.5)\n",
    "\n",
    "    # Define the utelety\n",
    "    u=formel.u(alpha,receivor)\n",
    "    \n",
    "    #p = pm.Deterministic('p', formel.g_propabelety(0.5,c,u))\n",
    "    p = pm.Deterministic('p', tt.exp(u) / (1 + tt.exp(u)))\n",
    "\n",
    "    # Define the likelihood\n",
    "    observed = pm.Bernoulli('obs', p, observed = choice)\n",
    "\n",
    "    # Using Metropolis Hastings Sampling\n",
    "    step = pm.Metropolis()\n",
    "\n",
    "    # Sample from the posterior using the sampling method\n",
    "    trace = pm.sample(N_SAMPLES, step=step);\n",
    "\n",
    "# Print the summary of the posterior distribution\n",
    "pm.summary(trace)"
   ]
  },
  {
   "attachments": {},
   "cell_type": "markdown",
   "metadata": {},
   "source": [
    "# Loop over all persons\n"
   ]
  },
  {
   "cell_type": "code",
   "execution_count": null,
   "metadata": {},
   "outputs": [],
   "source": [
    "print(len(data))\n",
    "\n",
    "\n",
    "for i in range(len(data)):\n",
    "    person = i\n",
    "\n",
    "    receivor=ast.literal_eval(data['receivor'][person])[0:40] if ast.literal_eval(data['receivor'][person])[0] >= 0 else ast.literal_eval(data['receivor'][person])[40:]\n",
    "    receivor=np.array(receivor)\n",
    "\n",
    "    choice=ast.literal_eval(data['choose'][person])[0:40] if ast.literal_eval(data['receivor'][person])[0] >= 0 else ast.literal_eval(data['choose'][person])[40:]\n",
    "    choice=np.array(choice)\n",
    "    # np.isnan() can now be applied on \"choice\"\n",
    "    choice = np.array([0 if np.isnan(x) else x for x in choice])\n",
    "\n",
    "    print(f'subjet {data[\"Subject\"][person]}')\n",
    "    N_SAMPLES = 5000\n",
    "\n",
    "    # Define the MCMC model\n",
    "    with pm.Model() as model:\n",
    "        alpha = pm.Gamma('alpha', alpha = 2, beta = 0.5)\n",
    "\n",
    "        # Define the likelihood\n",
    "        u=receivor - alpha * ((10 - receivor) - receivor)\n",
    "\n",
    "\n",
    "        p = pm.Deterministic('p', tt.exp(u) / (1 + tt.exp(u)))\n",
    "\n",
    "        observed = pm.Bernoulli('obs', p, observed = choice)\n",
    "\n",
    "        # Using Metropolis Hastings Sampling\n",
    "        step = pm.Metropolis()\n",
    "\n",
    "        # Sample from the posterior using the sampling method\n",
    "        trace = pm.sample(N_SAMPLES, step=step);\n",
    "    \n",
    "    alpha_samples = trace[alpha, 1000:]\n",
    "    np.savez(f'MCMC_tests/samples_{i}.npz', alpha=alpha_samples)\n",
    "    print(f'person {i} is done')"
   ]
  },
  {
   "attachments": {},
   "cell_type": "markdown",
   "metadata": {},
   "source": [
    "# Simulation data\n"
   ]
  },
  {
   "cell_type": "code",
   "execution_count": 7,
   "metadata": {},
   "outputs": [
    {
     "name": "stdout",
     "output_type": "stream",
     "text": [
      "200\n"
     ]
    }
   ],
   "source": [
    "rep=40\n",
    "lamb=2\n",
    "np.random.seed(42)\n",
    "sim_u = utility_class.Fehr_Schmidt\n",
    "\n",
    "receivor=[None]*rep*5\n",
    "print(len(receivor))\n",
    "prop=[None]*rep*5\n",
    "choice=[None]*rep*5\n",
    "for i in range(rep):\n",
    "    for resiv in range(1,6):\n",
    "        utility_class.set_responder(resiv)\n",
    "        receivor[(i*5)+resiv-1]=resiv\n",
    "\n",
    "        # define the u func\n",
    "        u=sim_u(lamb)\n",
    "\n",
    "        # calculate the p\n",
    "        p_sim=utility_class.P(u)\n",
    "        prop[(i*5)+resiv-1]=p_sim\n",
    "        # simulate from binomial distrabusing \n",
    "        choice[(i*5)+resiv-1]=np.random.binomial(n=1, p=p_sim)\n",
    "\n",
    "receivor=np.array(receivor)      \n",
    "choice = np.array([0 if np.isnan(x) else x for x in choice])\n",
    "\n"
   ]
  },
  {
   "cell_type": "code",
   "execution_count": 8,
   "metadata": {},
   "outputs": [
    {
     "name": "stderr",
     "output_type": "stream",
     "text": [
      "/home/mikkel/miniconda3/envs/Batcheler/lib/python3.10/site-packages/deprecat/classic.py:215: FutureWarning: In v4.0, pm.sample will return an `arviz.InferenceData` object instead of a `MultiTrace` by default. You can pass return_inferencedata=True or return_inferencedata=False to be safe and silence this warning.\n",
      "  return wrapped_(*args_, **kwargs_)\n",
      "Multiprocess sampling (4 chains in 4 jobs)\n",
      "Metropolis: [alpha]\n"
     ]
    },
    {
     "data": {
      "text/html": [
       "\n",
       "<style>\n",
       "    /* Turns off some styling */\n",
       "    progress {\n",
       "        /* gets rid of default border in Firefox and Opera. */\n",
       "        border: none;\n",
       "        /* Needs to be in here for Safari polyfill so background images work as expected. */\n",
       "        background-size: auto;\n",
       "    }\n",
       "    progress:not([value]), progress:not([value])::-webkit-progress-bar {\n",
       "        background: repeating-linear-gradient(45deg, #7e7e7e, #7e7e7e 10px, #5c5c5c 10px, #5c5c5c 20px);\n",
       "    }\n",
       "    .progress-bar-interrupted, .progress-bar-interrupted::-webkit-progress-bar {\n",
       "        background: #F44336;\n",
       "    }\n",
       "</style>\n"
      ],
      "text/plain": [
       "<IPython.core.display.HTML object>"
      ]
     },
     "metadata": {},
     "output_type": "display_data"
    },
    {
     "data": {
      "text/html": [
       "\n",
       "    <div>\n",
       "      <progress value='24000' class='' max='24000' style='width:300px; height:20px; vertical-align: middle;'></progress>\n",
       "      100.00% [24000/24000 00:03&lt;00:00 Sampling 4 chains, 0 divergences]\n",
       "    </div>\n",
       "    "
      ],
      "text/plain": [
       "<IPython.core.display.HTML object>"
      ]
     },
     "metadata": {},
     "output_type": "display_data"
    },
    {
     "name": "stderr",
     "output_type": "stream",
     "text": [
      "Sampling 4 chains for 1_000 tune and 5_000 draw iterations (4_000 + 20_000 draws total) took 4 seconds.\n",
      "The number of effective samples is smaller than 25% for some parameters.\n"
     ]
    }
   ],
   "source": [
    "# Define the MCMC model\n",
    "with pm.Model() as model:\n",
    "    \n",
    "    # Define the priors\n",
    "    alpha = pm.Gamma('alpha', alpha = 1, beta = 0.25)\n",
    "\n",
    "    # Define the utelety\n",
    "    u=receivor - alpha * ((10 - receivor) - receivor)\n",
    "    \n",
    "    #p = pm.Deterministic('p', formel.g_propabelety(0.5,c,u))\n",
    "    p = pm.Deterministic('p', tt.exp(u) / (1 + tt.exp(u)))\n",
    "\n",
    "    # Define the likelihood\n",
    "    observed = pm.Bernoulli('obs', p, observed = choice)\n",
    "\n",
    "    # Using Metropolis Hastings Sampling\n",
    "    step = pm.Metropolis()\n",
    "\n",
    "    # Sample from the posterior using the sampling method\n",
    "    trace1 = pm.sample(5000, step=step);\n",
    "\n",
    "# Print the summary of the posterior distribution\n",
    "#pm.summary(trace)"
   ]
  },
  {
   "cell_type": "code",
   "execution_count": 9,
   "metadata": {},
   "outputs": [
    {
     "name": "stdout",
     "output_type": "stream",
     "text": [
      "200\n"
     ]
    }
   ],
   "source": [
    "rep=40\n",
    "lamb=0.5\n",
    "\n",
    "sim_u = utility_class.Fehr_Schmidt\n",
    "\n",
    "receivor=[None]*rep*5\n",
    "print(len(receivor))\n",
    "prop=[None]*rep*5\n",
    "choice=[None]*rep*5\n",
    "for i in range(rep):\n",
    "    for resiv in range(1,6):\n",
    "        utility_class.set_responder(resiv)\n",
    "        receivor[(i*5)+resiv-1]=resiv\n",
    "\n",
    "        # define the u func\n",
    "        u=sim_u(lamb)\n",
    "\n",
    "        # calculate the p\n",
    "        p_sim=utility_class.P(u)\n",
    "        prop[(i*5)+resiv-1]=p_sim\n",
    "        # simulate from binomial distrabusing \n",
    "        choice[(i*5)+resiv-1]=np.random.binomial(n=1, p=p_sim)\n",
    "\n",
    "receivor=np.array(receivor)      \n",
    "choice = np.array([0 if np.isnan(x) else x for x in choice])\n",
    "\n",
    "\n"
   ]
  },
  {
   "cell_type": "code",
   "execution_count": 10,
   "metadata": {},
   "outputs": [
    {
     "name": "stderr",
     "output_type": "stream",
     "text": [
      "/home/mikkel/miniconda3/envs/Batcheler/lib/python3.10/site-packages/deprecat/classic.py:215: FutureWarning: In v4.0, pm.sample will return an `arviz.InferenceData` object instead of a `MultiTrace` by default. You can pass return_inferencedata=True or return_inferencedata=False to be safe and silence this warning.\n",
      "  return wrapped_(*args_, **kwargs_)\n",
      "Multiprocess sampling (4 chains in 4 jobs)\n",
      "Metropolis: [alpha]\n"
     ]
    },
    {
     "data": {
      "text/html": [
       "\n",
       "<style>\n",
       "    /* Turns off some styling */\n",
       "    progress {\n",
       "        /* gets rid of default border in Firefox and Opera. */\n",
       "        border: none;\n",
       "        /* Needs to be in here for Safari polyfill so background images work as expected. */\n",
       "        background-size: auto;\n",
       "    }\n",
       "    progress:not([value]), progress:not([value])::-webkit-progress-bar {\n",
       "        background: repeating-linear-gradient(45deg, #7e7e7e, #7e7e7e 10px, #5c5c5c 10px, #5c5c5c 20px);\n",
       "    }\n",
       "    .progress-bar-interrupted, .progress-bar-interrupted::-webkit-progress-bar {\n",
       "        background: #F44336;\n",
       "    }\n",
       "</style>\n"
      ],
      "text/plain": [
       "<IPython.core.display.HTML object>"
      ]
     },
     "metadata": {},
     "output_type": "display_data"
    },
    {
     "name": "stderr",
     "output_type": "stream",
     "text": [
      "/home/mikkel/miniconda3/envs/Batcheler/lib/python3.10/site-packages/pymc3/step_methods/metropolis.py:226: RuntimeWarning: overflow encountered in exp\n",
      "  \"accept\": np.exp(accept),\n"
     ]
    },
    {
     "data": {
      "text/html": [
       "\n",
       "    <div>\n",
       "      <progress value='24000' class='' max='24000' style='width:300px; height:20px; vertical-align: middle;'></progress>\n",
       "      100.00% [24000/24000 00:03&lt;00:00 Sampling 4 chains, 0 divergences]\n",
       "    </div>\n",
       "    "
      ],
      "text/plain": [
       "<IPython.core.display.HTML object>"
      ]
     },
     "metadata": {},
     "output_type": "display_data"
    },
    {
     "name": "stderr",
     "output_type": "stream",
     "text": [
      "/home/mikkel/miniconda3/envs/Batcheler/lib/python3.10/site-packages/pymc3/step_methods/metropolis.py:226: RuntimeWarning: overflow encountered in exp\n",
      "  \"accept\": np.exp(accept),\n",
      "Sampling 4 chains for 1_000 tune and 5_000 draw iterations (4_000 + 20_000 draws total) took 3 seconds.\n",
      "The number of effective samples is smaller than 25% for some parameters.\n"
     ]
    }
   ],
   "source": [
    "\n",
    "# Define the MCMC model\n",
    "with pm.Model() as model:\n",
    "    \n",
    "    # Define the priors\n",
    "    alpha = pm.Gamma('alpha', alpha = 1, beta = 0.25)\n",
    "\n",
    "    # Define the utelety\n",
    "    u=receivor - alpha * ((10 - receivor) - receivor)\n",
    "    \n",
    "    p = pm.Deterministic('p', tt.exp(u) / (1 + tt.exp(u)))\n",
    "\n",
    "    # Define the likelihood\n",
    "    observed = pm.Bernoulli('obs', p, observed = choice)\n",
    "\n",
    "    # Using Metropolis Hastings Sampling\n",
    "    step = pm.Metropolis()\n",
    "\n",
    "    # Sample from the posterior using the sampling method\n",
    "    trace2 = pm.sample(5000, step=step);\n",
    "\n",
    "# Print the summary of the posterior distribution\n",
    "#pm.summary(trace)"
   ]
  },
  {
   "cell_type": "code",
   "execution_count": 11,
   "metadata": {},
   "outputs": [
    {
     "data": {
      "image/png": "[encoded data removed]",
      "text/plain": [
       "<Figure size 640x480 with 1 Axes>"
      ]
     },
     "metadata": {},
     "output_type": "display_data"
    }
   ],
   "source": [
    "\n",
    "def plot_distrabustion(data1,data2):\n",
    "    plt.title(\"Histogram of simulated data using piror Gamma Distribution with a = 1 and b= 0.25  \")\n",
    "\n",
    "    plt.hist(data1, histtype='stepfilled', \n",
    "            color = 'darkred', bins=30, alpha=0.5, density=True,label='alpha = 2')\n",
    "    \n",
    "    plt.axvline(2, color='red', linestyle='dashed', linewidth=1, label='alpah 2')\n",
    "\n",
    "    plt.hist(data2, histtype='stepfilled', \n",
    "            color = 'darkblue', bins=30, alpha=0.5, density=True,label='alpha = 0.5')\n",
    "    \n",
    "    plt.axvline(0.5, color='red', linestyle='dashed', linewidth=1, label='alpah 0.5')\n",
    "    plt.ylabel('Probability Density')\n",
    "\n",
    "    plt.xlabel('alpha')\n",
    "    plt.legend()\n",
    "    plt.show()\n",
    "\n",
    "plot_distrabustion(trace1[alpha, 1000:],trace2[alpha, 1000:])"
   ]
  }
 ],
 "metadata": {
  "kernelspec": {
   "display_name": "base",
   "language": "python",
   "name": "python3"
  },
  "language_info": {
   "codemirror_mode": {
    "name": "ipython",
    "version": 3
   },
   "file_extension": ".py",
   "mimetype": "text/x-python",
   "name": "python",
   "nbconvert_exporter": "python",
   "pygments_lexer": "ipython3",
   "version": "3.10.11"
  },
  "orig_nbformat": 4
 },
 "nbformat": 4,
 "nbformat_minor": 2
}
